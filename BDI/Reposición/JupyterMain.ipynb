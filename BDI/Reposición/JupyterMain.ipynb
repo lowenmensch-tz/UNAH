{
 "cells": [
  {
   "cell_type": "markdown",
   "metadata": {},
   "source": [
    "    Universidad Nacional Autónoma de Honduras (UNAH)\n",
    "    I PAC 2021   \n",
    "    Examen de reposición de la tercera unidad\n",
    "    Clase: Bases de Datos I\n",
    "    Sección: 0701\n",
    "    Catedrático: José Manuel Inestroza Murillo\n",
    "    Alumno:  Kenneth Leonel Cruz Ordoñez           -   20141010391"
   ]
  },
  {
   "cell_type": "code",
   "execution_count": 2,
   "metadata": {},
   "outputs": [],
   "source": [
    "from MySQLengine import MySQLEngine\n",
    "from ConfigConnection import Configuration\n",
    "import re"
   ]
  },
  {
   "cell_type": "code",
   "execution_count": 3,
   "metadata": {},
   "outputs": [
    {
     "name": "stdout",
     "output_type": "stream",
     "text": [
      "La conexión ha sido: Satisfactoria\n"
     ]
    }
   ],
   "source": [
    "config = Configuration(\n",
    "            host=\"localhost\", \n",
    "            port=\"3306\", \n",
    "            user=\"admin\", \n",
    "            password=\"admin\"\n",
    "        )\n",
    "engine = MySQLEngine(config)\n",
    "\n",
    "DB_NAME = 'SudokuDB'\n",
    "\n",
    "VIEWS = {}\n",
    "TABLES = {}\n",
    "TRIGERS = {}\n",
    "FUNCTIONS = {}\n",
    "PROCEDURES = {}\n",
    "\n",
    "add_user = {}\n",
    "add_sudokuboard = {}"
   ]
  },
  {
   "cell_type": "markdown",
   "metadata": {},
   "source": [
    "## Tablas de la base de datos\n",
    "\n",
    "Se describen las sentencias de definición de la base de datos."
   ]
  },
  {
   "cell_type": "code",
   "execution_count": null,
   "metadata": {},
   "outputs": [],
   "source": [
    "TABLES[''] = (\n",
    ")\n",
    "\n",
    "TABLES[''] = (\n",
    ")\n",
    "\n",
    "TABLES[''] = (\n",
    ")\n",
    "\n",
    "TABLES[''] = (\n",
    ")\n",
    "\n",
    "TABLES[''] = (\n",
    ")\n",
    "\n",
    "TABLES[''] = (\n",
    ")\n",
    "\n",
    "TABLES[''] = (\n",
    ")\n",
    "\n",
    "TABLES['QueryExecutionHistory'] = (\n",
    "    \" CREATE TABLE QueryExecutionHistory( \"\n",
    "    \"     id SERIAL PRIMARY KEY,  \"\n",
    "    \"     tex_nickname TINYTEXT NOT NULL COMMENT 'Descripción del nombre de operación (SELECT, DDS) ',  \"\n",
    "    \"     tex_description TEXT NOT NULL COMMENT 'Descripción de la acción que realiza el sistema', \"\n",
    "    \"     tim_date TIMESTAMP NOT NULL DEFAULT NOW() COMMENT 'Tiempo exacto en el que se realizó la acción' \"\n",
    "    \"      \"\n",
    "    \" )COMMENT = 'Almacena las operaciones ejecutadas en el sistema'; \"\n",
    ")"
   ]
  },
  {
   "cell_type": "markdown",
   "metadata": {},
   "source": [
    "## Vistas para la base de datos\n",
    "\n",
    "Definición de las vistas"
   ]
  },
  {
   "cell_type": "code",
   "execution_count": null,
   "metadata": {},
   "outputs": [],
   "source": [
    "VIEWS[''] = (\n",
    ")"
   ]
  },
  {
   "cell_type": "markdown",
   "metadata": {},
   "source": [
    "### Funciones para la base de datos\n",
    "\n",
    "Definición de las funciones"
   ]
  },
  {
   "cell_type": "code",
   "execution_count": null,
   "metadata": {},
   "outputs": [],
   "source": [
    "FUNCTIONS[''] = (\n",
    ")"
   ]
  },
  {
   "cell_type": "markdown",
   "metadata": {},
   "source": [
    "### Procedimientos almacenados para la base de datos\n",
    "\n",
    "Definición de los procedimientos almacenados"
   ]
  },
  {
   "cell_type": "code",
   "execution_count": null,
   "metadata": {},
   "outputs": [],
   "source": [
    "PROCEDURES[''] = (\n",
    ")"
   ]
  },
  {
   "cell_type": "markdown",
   "metadata": {},
   "source": [
    "## Triggers para la base de datos\n",
    "\n",
    "Definición de los Triggers"
   ]
  },
  {
   "cell_type": "code",
   "execution_count": null,
   "metadata": {},
   "outputs": [],
   "source": [
    "TRIGERS[''] = (\n",
    ")"
   ]
  },
  {
   "cell_type": "markdown",
   "metadata": {},
   "source": [
    "## Instancias para la creación de la base de dato, tablas, funciones, triggers\n",
    "\n",
    "Se crean instancias para hacer llamado a los diccionarios que contienen la definición de las operaciones"
   ]
  },
  {
   "cell_type": "code",
   "execution_count": null,
   "metadata": {},
   "outputs": [],
   "source": [
    "engine.createDatabase(DB_NAME)"
   ]
  },
  {
   "cell_type": "code",
   "execution_count": null,
   "metadata": {},
   "outputs": [],
   "source": [
    "engine.useDB(DB_NAME)"
   ]
  },
  {
   "cell_type": "code",
   "execution_count": null,
   "metadata": {},
   "outputs": [],
   "source": [
    "engine.createSentence(TABLES)"
   ]
  },
  {
   "cell_type": "code",
   "execution_count": null,
   "metadata": {},
   "outputs": [],
   "source": [
    "engine.createSentence(VIEWS)"
   ]
  },
  {
   "cell_type": "code",
   "execution_count": null,
   "metadata": {},
   "outputs": [],
   "source": [
    "engine.createSentence(FUNCTIONS)"
   ]
  },
  {
   "cell_type": "code",
   "execution_count": null,
   "metadata": {},
   "outputs": [],
   "source": [
    "engine.createSentence(PROCEDURES)"
   ]
  },
  {
   "cell_type": "code",
   "execution_count": null,
   "metadata": {},
   "outputs": [],
   "source": [
    "engine.createSentence(TRIGERS)"
   ]
  },
  {
   "cell_type": "markdown",
   "metadata": {},
   "source": [
    "## Datos de inserción para la base de datos\n",
    "\n",
    "\n",
    "Se describen los datos de ejemplo a insertar a la base de datos"
   ]
  },
  {
   "cell_type": "code",
   "execution_count": null,
   "metadata": {},
   "outputs": [],
   "source": []
  },
  {
   "cell_type": "markdown",
   "metadata": {},
   "source": [
    "## Búsqueda de datos\n",
    "\n",
    "Dentro de la base de datos recién creada"
   ]
  },
  {
   "cell_type": "code",
   "execution_count": null,
   "metadata": {},
   "outputs": [],
   "source": [
    "query = \"SELECT * FROM Binacle;\"\n",
    "engine.selectHeadRows(query)"
   ]
  }
 ],
 "metadata": {
  "kernelspec": {
   "display_name": "Python 3",
   "language": "python",
   "name": "python3"
  },
  "language_info": {
   "codemirror_mode": {
    "name": "ipython",
    "version": 3
   },
   "file_extension": ".py",
   "mimetype": "text/x-python",
   "name": "python",
   "nbconvert_exporter": "python",
   "pygments_lexer": "ipython3",
   "version": "3.8.5"
  }
 },
 "nbformat": 4,
 "nbformat_minor": 4
}
