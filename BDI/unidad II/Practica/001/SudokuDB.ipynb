{
 "cells": [
  {
   "cell_type": "markdown",
   "metadata": {},
   "source": [
    "    Universidad Nacional Autónoma de Honduras (UNAH)\n",
    "    I PAC 2021   \n",
    "    Examen de reposición de la tercera unidad\n",
    "    Clase: Bases de Datos I\n",
    "    Sección: 0701\n",
    "    Catedrático: José Manuel Inestroza Murillo\n",
    "    Alumno:  Kenneth Leonel Cruz Ordoñez           -   20141010391"
   ]
  },
  {
   "cell_type": "code",
   "execution_count": 1,
   "metadata": {},
   "outputs": [],
   "source": [
    "from MySQLEngine import MySQLEngine\n",
    "from ConfigConnection import Configuration\n",
    "import re"
   ]
  },
  {
   "cell_type": "code",
   "execution_count": 2,
   "metadata": {},
   "outputs": [
    {
     "name": "stdout",
     "output_type": "stream",
     "text": [
      "La conexión ha sido: Satisfactoria\n"
     ]
    }
   ],
   "source": [
    "config = Configuration(\n",
    "            host=\"localhost\", \n",
    "            port=\"3306\", \n",
    "            user=\"admin\", \n",
    "            password=\"admin\"\n",
    "        )\n",
    "engine = MySQLEngine(config)\n",
    "\n",
    "DB_NAME = 'SudokuDB'\n",
    "\n",
    "VIEWS = {}\n",
    "TABLES = {}\n",
    "TRIGERS = {}\n",
    "FUNCTIONS = {}\n",
    "PROCEDURES = {}\n",
    "\n",
    "add_user = {}\n",
    "add_sudokuboard = {}"
   ]
  },
  {
   "cell_type": "markdown",
   "metadata": {},
   "source": [
    "## Tablas de la base de datos\n",
    "\n",
    "Se describen las sentencias de definición de la base de datos."
   ]
  },
  {
   "cell_type": "code",
   "execution_count": null,
   "metadata": {},
   "outputs": [],
   "source": [
    "TABLES['User'] = (\n",
    "    \"CREATE TABLE User( \"\n",
    "    \"    id SERIAL PRIMARY KEY, \"\n",
    "    \"    tex_nickname VARCHAR(30) NOT NULL UNIQUE COMMENT 'Nombre de ingreso para el usuario',\"\n",
    "    \"    CHECK(tex_nickname RLIKE '[a-zA-Z\\d]{4,30}' ), \"\n",
    "    \"    bit_rol BIT(1) DEFAULT 0 NOT NULL COMMENT '0 Usuario | 1 Administrador; Tipos de rol para acceso al sistema', \" \n",
    "    \"    tex_password TEXT NOT NULL COMMENT 'Contraseña', \"\n",
    "    \"    bit_state BIT(1) DEFAULT 1 NOT NULL COMMENT '0 deshabilitado| 1 habilitado. Dar de baja a los usuarios, de esta forma se evita eliminar a los usuarios de forma explícita de la base de datos' \"\n",
    "    \")COMMENT 'Información general sobre el usuario'; \"\n",
    ")\n",
    "\n",
    "TABLES['Login'] = (\n",
    "    \" CREATE TABLE Login( \"\n",
    "    \"     id SERIAL PRIMARY KEY, \"\n",
    "    \"     id_user_fk BIGINT UNSIGNED NOT NULL COMMENT 'Referencia hacia user', \"\n",
    "    \"     tim_date TIMESTAMP DEFAULT NOW() COMMENT 'Hora de ingreso al sistema', \"\n",
    "    \"     FOREIGN KEY (id_user_fk) REFERENCES User(id) \"\n",
    "    \" )COMMENT 'Sistema de acceso al sistema'; \"\n",
    ")\n",
    "\n",
    "TABLES['SudokuBoard'] = (\n",
    "       \" CREATE TABLE SudokuBoard( \"\n",
    "    \"     id SERIAL PRIMARY KEY, \"\n",
    "    \"     tex_board VARCHAR(89) NOT NULL UNIQUE COMMENT 'Contiene la información inicial de un tablero, para luego ser rellenado en el Board de la aplicación de escritorio' \"\n",
    "    \" ) COMMENT 'Contiene la información de los tableros que pueden ser cargados en la aplicación'; \"\n",
    ")\n",
    "\n",
    "TABLES['Game'] = (\n",
    "    \" CREATE TABLE Game( \"\n",
    "    \"     id SERIAL PRIMARY KEY, \"\n",
    "    \"     id_user_fk BIGINT UNSIGNED NOT NULL COMMENT 'Referencia', \"\n",
    "    \"     id_sudokuboard_fk BIGINT UNSIGNED NOT NULL COMMENT 'Referencia hacia los archivos que contiene los tableros', \"\n",
    "    \"     blo_file BLOB NOT NULL COMMENT 'Archivo .sudoku que genera el programa cada vez que inicia un tablero', \"\n",
    "    \"     tim_time TIME NOT NULL COMMENT 'hh:mm:ss Minutos transcurridos tras iniciar una partidar o tras continuar una partida pausada', \"\n",
    "    \"     tim_date TIMESTAMP DEFAULT NOW() NOT NULL COMMENT 'último estado en el que es almacenado el tablero en la base de datos', \"\n",
    "    \"  \"\n",
    "    \"     FOREIGN KEY (id_user_fk) REFERENCES User(id), \"\n",
    "    \"     FOREIGN KEY (id_sudokuboard_fk) REFERENCES SudokuBoard(id) \"\n",
    "    \" )COMMENT 'Tablero del juego'; \")\n",
    "\n",
    "TABLES['LogOff'] = (\n",
    "    \" CREATE TABLE LogOff( \"\n",
    "    \"     id SERIAL PRIMARY KEY, \"\n",
    "    \"     id_user_fk BIGINT UNSIGNED NOT NULL COMMENT 'Referencia hacia usuario', \"\n",
    "    \"     tim_date TIMESTAMP DEFAULT NOW() NOT NULL COMMENT 'Tiempo en el que cierre de sesión un usuario', \"\n",
    "    \"  \"\n",
    "    \"     FOREIGN KEY (id_user_fk) REFERENCES User(id) \"\n",
    "    \" )COMMENT 'Cierre de sesión por parte de un usuario'; \"\n",
    ")\n",
    "\n",
    "\n",
    "TABLES['State'] = (\n",
    "    \" CREATE TABLE State( \"\n",
    "    \"     id SERIAL PRIMARY KEY, \"\n",
    "    \"     id_game_fk BIGINT UNSIGNED NOT NULL COMMENT 'Referencia hacia la entidad Juego', \"\n",
    "    \"     cod_state ENUM('nuevo', 'pausado', 'finalizado', 'derrota', 'continuar') DEFAULT 'nuevo' NOT NULL  \"\n",
    "    \"     COMMENT 'Estados del juego, el estado finalizado significa haber concluido el juego con éxito, derrota es haber abandonado la partida', \"\n",
    "    \"     tim_date TIMESTAMP DEFAULT NOW() NOT NULL COMMENT 'último estado en el que es almacenado el tablero en la base de datos', \"\n",
    "    \"  \"\n",
    "    \"     FOREIGN KEY (id_game_fk) REFERENCES Game(id) \"\n",
    "    \" )COMMENT 'Estados en los que puede estar el tablero de juego para un jugador'; \"\n",
    ")\n",
    "\n",
    "TABLES['Binacle'] = (\n",
    "    \" CREATE TABLE Binacle( \"\n",
    "    \"     id SERIAL PRIMARY KEY,  \"\n",
    "    \"     tex_nickname TINYTEXT NOT NULL COMMENT 'Descripción del nombre del usuario',  \"\n",
    "    \"     tex_description TEXT NOT NULL COMMENT 'Descripción de la acción que realiza un usuario en el sistema', \"\n",
    "    \"     tim_date TIMESTAMP NOT NULL DEFAULT NOW() COMMENT 'Tiempo exacto en el que se realizó la acción' \"\n",
    "    \"      \"\n",
    "    \" )COMMENT = 'Almacena acciones realizadas por los usuarios'; \"\n",
    ")"
   ]
  },
  {
   "cell_type": "markdown",
   "metadata": {},
   "source": [
    "## Vistas para la base de datos\n",
    "\n",
    "Definición de las vistas"
   ]
  },
  {
   "cell_type": "code",
   "execution_count": null,
   "metadata": {},
   "outputs": [],
   "source": [
    "VIEWS['vw_GetLastLoginUser'] = (\n",
    "    \" CREATE VIEW vw_GetLastLoginUser \"\n",
    "    \"     AS  \"\n",
    "    \"     SELECT  \"\n",
    "    \"         login.id AS id, \"\n",
    "    \"         User.tex_nickname AS name, \"\n",
    "    \"         User.bit_rol AS rol  \"\n",
    "    \"     FROM  \"\n",
    "    \"         User \"\n",
    "    \"     INNER JOIN  \"\n",
    "    \"         ( \"\n",
    "    \"             SELECT  \"\n",
    "    \"                 id_user_fk AS id \"\n",
    "    \"             FROM  \"\n",
    "    \"                 Login  \"\n",
    "    \"             ORDER BY  \"\n",
    "    \"                 tim_date DESC   \"\n",
    "    \"             LIMIT 1 \"\n",
    "    \"         ) AS login ON User.id = login.id \"\n",
    "    \" ; \"\n",
    ")"
   ]
  },
  {
   "cell_type": "markdown",
   "metadata": {},
   "source": [
    "### Funciones para la base de datos\n",
    "\n",
    "Definición de las funciones\n"
   ]
  },
  {
   "cell_type": "code",
   "execution_count": null,
   "metadata": {},
   "outputs": [],
   "source": [
    "FUNCTIONS['fn_compareData'] = (\n",
    "    \"     CREATE FUNCTION fn_compareData(pyNickname TEXT, pyPassword TEXT) RETURNS TEXT \"\n",
    "    \"     BEGIN \"\n",
    "    \"  \"\n",
    "    \"     SET @nicknameResult = IF(pyNickname IN (SELECT tex_nickname FROM User), 1, 0); \"\n",
    "    \"     SET @password = ( \"\n",
    "    \"         SELECT \"\n",
    "    \"             tex_password \"\n",
    "    \"         FROM \"\n",
    "    \"             User \"\n",
    "    \"         WHERE \"\n",
    "    \"             tex_nickname = pyNickname \"\n",
    "    \"     ); \"\n",
    "    \"     SET @passwordResult = IF(@password = HEX(AES_ENCRYPT(pyPassword, pyNickname)), 1, 0); \"\n",
    "    \"     SET @rolResult = IF((SELECT bit_rol FROM User WHERE tex_nickname = pyNickname) = 1, 1, 0); \"\n",
    "    \"     SET @newPasswordResult = IF((SELECT HEX(AES_ENCRYPT(pyNickname, pyNickname)) FROM User WHERE tex_nickname = pyNickname) = @password, 1, 0); \"\n",
    "    \"     SET @userState = IF((SELECT bit_state FROM User WHERE tex_nickname = pyNickname) = 1, 1, 0); \"\n",
    "    \"     SET @result = (SELECT CONCAT(@nicknameResult, ' ', @passwordResult, ' ' ,@rolResult, ' ', @newPasswordResult, ' ', @userState)); \"\n",
    "    \"     RETURN @result; \"\n",
    "    \"  \"\n",
    "    \"     END \"\n",
    ")\n",
    "\n",
    "FUNCTIONS['fn_getNickNameByState'] = (\n",
    "     \"    CREATE FUNCTION fn_getNickNameByState(id_game_fk BIGINT UNSIGNED) RETURNS VARCHAR(40) \"\n",
    "     \"    BEGIN  \"\n",
    "     \"        RETURN ( \"\n",
    "     \"                    SELECT   \"\n",
    "     \"                        User.tex_nickname AS nickname \"\n",
    "     \"                    FROM \"\n",
    "     \"                        User \"\n",
    "     \"                    INNER JOIN  \"\n",
    "     \"                        Game ON User.id = Game.id_user_fk \"\n",
    "     \"                    WHERE  \"\n",
    "     \"                        Game.id = id_game_fk \"\n",
    "     \"                ) \"\n",
    "     \"            ; \"\n",
    "     \"    END \"\n",
    ")\n",
    "\n",
    "FUNCTIONS['fn_getNicknameById'] = (\n",
    "    \"     CREATE FUNCTION fn_getNicknameById(id_user_fk BIGINT UNSIGNED) RETURNS VARCHAR(40) \"\n",
    "    \"     BEGIN  \"\n",
    "    \"         RETURN ( \"\n",
    "    \"                     SELECT   \"\n",
    "    \"                         tex_nickname AS nickname \"\n",
    "    \"                     FROM \"\n",
    "    \"                         User \"\n",
    "    \"                     WHERE  \"\n",
    "    \"                         id = id_user_fk \"\n",
    "    \"                 ) \"\n",
    "    \"             ; \"\n",
    "    \"     END \"\n",
    ")"
   ]
  },
  {
   "cell_type": "markdown",
   "metadata": {},
   "source": [
    "### Procedimientos almacenados para la base de datos\n",
    "\n",
    "Definición de los procedimientos almacenados\n"
   ]
  },
  {
   "cell_type": "code",
   "execution_count": null,
   "metadata": {},
   "outputs": [],
   "source": [
    "PROCEDURES['sp_updatePassword'] = (\n",
    "    \" CREATE PROCEDURE sp_updatePassword(IN pyOldNickname TEXT, IN pyNewNickname TEXT) \"\n",
    "    \" BEGIN \"\n",
    "    \"      \"\n",
    "    \"     SET @oldPassword = ( \"\n",
    "    \"         SELECT  \"\n",
    "    \"             AES_DECRYPT(UNHEX(tex_password), pyOldNickname)  \"\n",
    "    \"         FROM  \"\n",
    "    \"             User  \"\n",
    "    \"         WHERE  \"\n",
    "    \"             tex_nickname = pyOldNickname \"\n",
    "    \"         ); \"\n",
    "    \"  \"\n",
    "    \"     UPDATE  \"\n",
    "    \"         User  \"\n",
    "    \"     SET  \"\n",
    "    \"         tex_password = HEX(AES_ENCRYPT(@oldPassword, pyNewNickname))  \"\n",
    "    \"     WHERE  \"\n",
    "    \"         tex_nickname = pyOldNickname; \"\n",
    "    \"  \"\n",
    "    \" END \"\n",
    ")"
   ]
  },
  {
   "cell_type": "markdown",
   "metadata": {},
   "source": [
    "## Triggers para la base de datos\n",
    "\n",
    "Definición de los Triggers"
   ]
  },
  {
   "cell_type": "code",
   "execution_count": null,
   "metadata": {},
   "outputs": [],
   "source": [
    "TRIGERS['tg_createBoard'] = (\n",
    "    \"     CREATE TRIGGER tg_createBoard  \"\n",
    "    \"         AFTER INSERT \"\n",
    "    \"         ON State FOR EACH ROW \"\n",
    "    \"     BEGIN   \"\n",
    "    \"         INSERT INTO Binacle(tex_nickname, tex_description) VALUES \"\n",
    "    \"             ( \"\n",
    "    \"                 fn_getNickNameByState(new.id_game_fk) \"\n",
    "    \"                 ,  \"\n",
    "    \"  \"\n",
    "    \"                 ( \"\n",
    "    \"                     SELECT  \"\n",
    "    \"                         CASE \"\n",
    "    \"                             WHEN  new.cod_state = 1 THEN  'Creó un nuevo tablero' \"\n",
    "    \"                             WHEN  new.cod_state = 2 THEN 'Pausó el juego' \"\n",
    "    \"                             WHEN  new.cod_state = 3 THEN 'Finalizó con éxito la partida' \"\n",
    "    \"                             WHEN  new.cod_state = 4 THEN 'Perdió la partida' \"\n",
    "    \"                             WHEN  new.cod_state = 5 THEN 'Continuó la partida en pausa' \"\n",
    "    \"                         END  \"\n",
    "    \"                 ) \"\n",
    "    \"             ) \"\n",
    "    \"         ; \"\n",
    "    \"     END \"\n",
    ")\n",
    "\n",
    "TRIGERS['tg_login'] = (\n",
    "    \"     CREATE TRIGGER tg_login \"\n",
    "    \"         AFTER INSERT  \"\n",
    "    \"         ON Login FOR EACH ROW \"\n",
    "    \"     BEGIN  \"\n",
    "    \"         INSERT INTO Binacle(tex_nickname, tex_description) VALUES \"\n",
    "    \"             ( \"\n",
    "    \"                 fn_getNicknameById(new.id_user_fk),  \"\n",
    "    \"                 'El usuario inició sesión' \"\n",
    "    \"             ) \"\n",
    "    \"         ; \"\n",
    "    \"     END \"\n",
    ")\n",
    "\n",
    "TRIGERS['tg_logOff'] = (\n",
    "    \"     CREATE TRIGGER tg_logOff \"\n",
    "    \"         AFTER INSERT  \"\n",
    "    \"         ON LogOff FOR EACH ROW \"\n",
    "    \"     BEGIN  \"\n",
    "    \"         INSERT INTO Binacle(tex_nickname, tex_description) VALUES \"\n",
    "    \"             ( \"\n",
    "    \"                 fn_getNicknameById(new.id_user_fk),  \"\n",
    "    \"                 'El usuario cerró sesión' \"\n",
    "    \"             ) \"\n",
    "    \"         ; \"\n",
    "    \"     END  \"\n",
    ")\n",
    "\n",
    "TRIGERS['tg_createUser'] = (\n",
    "    \"     CREATE TRIGGER tg_createUser \"\n",
    "    \"         AFTER INSERT  \"\n",
    "    \"         ON User FOR EACH ROW \"\n",
    "    \"     BEGIN  \"\n",
    "    \"         INSERT INTO Binacle(tex_nickname, tex_description) VALUES \"\n",
    "    \"             ( \"\n",
    "    \"                 'admin',  \"\n",
    "    \"                 CONCAT('El usuario ', new.tex_nickname, ' ha sido creado') \"\n",
    "    \"                  \"\n",
    "    \"             ) \"\n",
    "    \"         ; \"\n",
    "    \"     END \"\n",
    ")"
   ]
  },
  {
   "cell_type": "markdown",
   "metadata": {},
   "source": [
    "## Instancias para la creación de la base de dato, tablas, funciones, triggers\n",
    "\n",
    "Se crean instancias para hacer llamado a los diccionarios que contienen la definición de las operaciones"
   ]
  },
  {
   "cell_type": "code",
   "execution_count": null,
   "metadata": {},
   "outputs": [],
   "source": [
    "engine.createDatabase(DB_NAME)"
   ]
  },
  {
   "cell_type": "code",
   "execution_count": 3,
   "metadata": {},
   "outputs": [
    {
     "name": "stdout",
     "output_type": "stream",
     "text": [
      "Query OK USE: SudokuDB\n"
     ]
    }
   ],
   "source": [
    "engine.useDB(DB_NAME)"
   ]
  },
  {
   "cell_type": "code",
   "execution_count": null,
   "metadata": {},
   "outputs": [],
   "source": [
    "engine.createSentence(TABLES)"
   ]
  },
  {
   "cell_type": "code",
   "execution_count": null,
   "metadata": {},
   "outputs": [],
   "source": [
    "engine.createSentence(VIEWS)"
   ]
  },
  {
   "cell_type": "code",
   "execution_count": null,
   "metadata": {},
   "outputs": [],
   "source": [
    "engine.createSentence(FUNCTIONS)"
   ]
  },
  {
   "cell_type": "code",
   "execution_count": null,
   "metadata": {},
   "outputs": [],
   "source": [
    "engine.createSentence(PROCEDURES)"
   ]
  },
  {
   "cell_type": "code",
   "execution_count": null,
   "metadata": {},
   "outputs": [],
   "source": [
    "engine.createSentence(TRIGERS)"
   ]
  },
  {
   "cell_type": "markdown",
   "metadata": {},
   "source": [
    "## Datos de inserción para la base de datos\n",
    "\n",
    "\n",
    "Se describen los datos de ejemplo a insertar a la base de datos"
   ]
  },
  {
   "cell_type": "code",
   "execution_count": null,
   "metadata": {},
   "outputs": [],
   "source": [
    "add_user['1'] = (\n",
    "    \" INSERT INTO User(tex_nickname, tex_password, bit_rol) VALUES \"\n",
    "    \"     ('admin', HEX(AES_ENCRYPT('admin', 'admin')), 1) \"\n",
    "    \" ; \"\n",
    ")\n",
    "\n",
    "add_user['2'] = (\n",
    "    \"INSERT INTO User(tex_nickname, tex_password) VALUES\"\n",
    "    \"('Renata', 'admin'),\"\n",
    "    \"('Angie', 'admin'),\"\n",
    "    \"('Clarissa', 'admin'),\"\n",
    "    \"('Melissa', 'admin')\"\n",
    "    \";\"\n",
    ")\n",
    "\n",
    "add_sudokuboard['1'] = (\n",
    "     \"INSERT INTO SudokuBoard(tex_board) VALUES  \"\n",
    "     \"    ('000846032\\n630297100\\n284015960\\n400508300\\n398004005\\n001009080\\n160000070\\n840601053\\n700000004'),  \"\n",
    "     \"    ('210000400\\n380400702\\n000720000\\n024806900\\n000000000\\n001203540\\n000058000\\n903004028\\n008000057'),  \"\n",
    "     \"    ('008100000\\n602003094\\n709080006\\n800320060\\n061070350\\n030014009\\n900040208\\n120800905\\n000001600'),  \"\n",
    "     \"    ('010007200\\n009024003\\n007900060\\n140070006\\n900208001\\n500040038\\n090001600\\n800490300\\n001600050'),  \"\n",
    "     \"    ('007200003\\n000057860\\n090300000\\n709001200\\n060070090\\n001400306\\n000006080\\n046710000\\n100003600'),  \"\n",
    "     \"    ('000846532\\n635297148\\n284315967\\n476528391\\n398164725\\n521739486\\n163452879\\n849671253\\n752983614')   \"\n",
    "     \"; \"\n",
    ")"
   ]
  },
  {
   "cell_type": "code",
   "execution_count": null,
   "metadata": {},
   "outputs": [],
   "source": [
    "engine.insertData( add_user['1'] )"
   ]
  },
  {
   "cell_type": "code",
   "execution_count": null,
   "metadata": {},
   "outputs": [],
   "source": [
    "engine.insertData( add_user['2'] )"
   ]
  },
  {
   "cell_type": "code",
   "execution_count": null,
   "metadata": {},
   "outputs": [],
   "source": [
    "engine.insertData( add_sudokuboard['1'] )"
   ]
  },
  {
   "cell_type": "markdown",
   "metadata": {},
   "source": [
    "## Búsqueda de datos\n",
    "\n",
    "Dentro de la base de datos recién creada"
   ]
  },
  {
   "cell_type": "code",
   "execution_count": 4,
   "metadata": {},
   "outputs": [
    {
     "data": {
      "text/plain": [
       "[(1,\n",
       "  'admin',\n",
       "  'El usuario admin ha sido creado',\n",
       "  datetime.datetime(2021, 4, 28, 10, 38, 38)),\n",
       " (2,\n",
       "  'admin',\n",
       "  'El usuario Renata ha sido creado',\n",
       "  datetime.datetime(2021, 4, 28, 10, 39, 5)),\n",
       " (3,\n",
       "  'admin',\n",
       "  'El usuario Angie ha sido creado',\n",
       "  datetime.datetime(2021, 4, 28, 10, 39, 5)),\n",
       " (4,\n",
       "  'admin',\n",
       "  'El usuario Clarissa ha sido creado',\n",
       "  datetime.datetime(2021, 4, 28, 10, 39, 5)),\n",
       " (5,\n",
       "  'admin',\n",
       "  'El usuario Melissa ha sido creado',\n",
       "  datetime.datetime(2021, 4, 28, 10, 39, 5))]"
      ]
     },
     "execution_count": 4,
     "metadata": {},
     "output_type": "execute_result"
    }
   ],
   "source": [
    "query = \"SELECT * FROM Binacle;\"\n",
    "engine.selectHeadRows(query)"
   ]
  },
  {
   "cell_type": "code",
   "execution_count": 5,
   "metadata": {},
   "outputs": [
    {
     "data": {
      "text/plain": [
       "[(1, 'admin', 1, 'D6434E01BBA64B1E49C840CE733FE794', 1),\n",
       " (2, 'Renata', 0, 'admin', 1),\n",
       " (3, 'Angie', 0, 'admin', 1),\n",
       " (4, 'Clarissa', 0, 'admin', 1),\n",
       " (5, 'Melissa', 0, 'admin', 1)]"
      ]
     },
     "execution_count": 5,
     "metadata": {},
     "output_type": "execute_result"
    }
   ],
   "source": [
    "query = \"SELECT * FROM User;\"\n",
    "engine.selectHeadRows(query)"
   ]
  }
 ],
 "metadata": {
  "kernelspec": {
   "display_name": "Python 3",
   "language": "python",
   "name": "python3"
  },
  "language_info": {
   "codemirror_mode": {
    "name": "ipython",
    "version": 3
   },
   "file_extension": ".py",
   "mimetype": "text/x-python",
   "name": "python",
   "nbconvert_exporter": "python",
   "pygments_lexer": "ipython3",
   "version": "3.8.5"
  }
 },
 "nbformat": 4,
 "nbformat_minor": 4
}
