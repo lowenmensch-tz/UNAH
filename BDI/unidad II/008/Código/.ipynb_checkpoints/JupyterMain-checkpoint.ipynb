{
 "cells": [
  {
   "cell_type": "markdown",
   "metadata": {},
   "source": [
    "@author jose.inestroza@unah.edu.hn\n",
    "@version 0.1.0\n",
    "@date 2021/04/06\n",
    "\n",
    "# Generación de inserción para MySQL/MariaDB\n",
    "\n",
    "## Objetivo\n",
    "\n",
    "- Generara datos de inserción para la base de datos, que permitan automatizar el completado del universo de datos de una tabla, mediante comandos parametrizados.\n",
    "- Hacer uso de **Jupyter Notebook** para documentar el desarrollo, mostrar comentarios, ejecutar el código e incluir la respuesta de ejecución.\n",
    "- Hacer uso de Python para crear las clases y métodos necesarios para el cumplimiento del objetivo."
   ]
  },
  {
   "cell_type": "code",
   "execution_count": 1,
   "metadata": {},
   "outputs": [
    {
     "name": "stdout",
     "output_type": "stream",
     "text": [
      "Se han importado las librerías Built-in\n"
     ]
    }
   ],
   "source": [
    "import random, re, os\n",
    "from datetime import datetime, timedelta\n",
    "\n",
    "print(\"Se han importado las librerías Built-in\")"
   ]
  },
  {
   "cell_type": "markdown",
   "metadata": {},
   "source": [
    "# Ejercicio\n",
    "\n",
    "- Usando Jupyter Notebook, cree un programa Python que: \n",
    "    - Crear un archivo SQL con código DMS.sql, para la inserción de datos sobre la tabla de base de datos **Measure**, que pertenece a la base de datos **Example**, usada en clases anteriores de esta asignatura.\n",
    "    - Crear 10 años de registos para la base de datos.\n",
    "    - Verificar el tamaño del archivo creado.\n",
    "    \n",
    "# Aclaraciones\n",
    "El estudiante debe reconocer que este ejercicio, a diferencia de ejercicios anteriores de Python, solicita la creación de archivos de SQL para la ejecución de los mismos fuera de Python. En ejercicios anteriores se le solicitó al estudiante crear programas de Python usando POO para ejecurae instrucciones SQL directamente desde dicho programa.\n",
    "\n",
    "**Se documenta la prueba matemática para la cantidad de registros de inserción que debe poseer el arhcivo final**\n"
   ]
  },
  {
   "cell_type": "code",
   "execution_count": 2,
   "metadata": {},
   "outputs": [
    {
     "data": {
      "text/plain": [
       "5256000"
      ]
     },
     "execution_count": 2,
     "metadata": {},
     "output_type": "execute_result"
    }
   ],
   "source": [
    "10*365*24*60"
   ]
  },
  {
   "cell_type": "markdown",
   "metadata": {},
   "source": [
    "**Se crea mediante POO, el comoponente de Pyton que generará el archivo.**"
   ]
  },
  {
   "cell_type": "code",
   "execution_count": 3,
   "metadata": {},
   "outputs": [],
   "source": [
    "class DataGenerator:\n",
    "    \n",
    "    def __init__(self, fileName=\"DMS.sql\"):\n",
    "        \n",
    "        self.fileName = fileName\n",
    "        print(\"Se ha creado una instancia de la clase DataGenerator.\")\n",
    "        \n",
    "    def generate(self, count): \n",
    "        \n",
    "        fileName = self.fileName\n",
    "        \n",
    "        f = open(fileName, \"w\")\n",
    "        f.write(\"--CREATE ... USE ... CREATE ... DROP ...\")\n",
    "        f.close()\n",
    "        \n",
    "        f = open(fileName, \"a\")\n",
    "        for i in range(count):\n",
    "            f.write(\"\"\"\n",
    "            INSERT INTO Measure(deviceId, temperature, date) VALUES ({},{},'{}');\n",
    "            \n",
    "            \"\"\".format(int(random.random()*(4-1)+1), \n",
    "                      round(random.random()*(39-36)+36, 2), \n",
    "                      datetime.now() + timedelta(seconds=60*i)\n",
    "                    )\n",
    "                )\n",
    "        f.close()\n",
    "        \n",
    "        print(\"Se ha finalizado correctamene la creación del archivo {}.\".format(fileName))\n",
    "        \n",
    "    def check(self):\n",
    "        \n",
    "        fileName = self.fileName\n",
    "        fileSize = os.path.getSize(fileName)\n",
    "        \n",
    "        print(\"El archivo {} tiene un tamaño físico de {} MB\".format(fileName, round(fileSize/1024/1024, 2)))"
   ]
  }
 ],
 "metadata": {
  "kernelspec": {
   "display_name": "Python 3",
   "language": "python",
   "name": "python3"
  },
  "language_info": {
   "codemirror_mode": {
    "name": "ipython",
    "version": 3
   },
   "file_extension": ".py",
   "mimetype": "text/x-python",
   "name": "python",
   "nbconvert_exporter": "python",
   "pygments_lexer": "ipython3",
   "version": "3.8.5"
  }
 },
 "nbformat": 4,
 "nbformat_minor": 4
}
