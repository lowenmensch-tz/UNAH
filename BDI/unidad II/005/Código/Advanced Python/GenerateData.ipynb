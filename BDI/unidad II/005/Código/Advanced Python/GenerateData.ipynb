{
 "cells": [
  {
   "cell_type": "code",
   "execution_count": 2,
   "metadata": {},
   "outputs": [],
   "source": [
    "from datetime import datetime\n",
    "from random import randint\n",
    "from random import uniform\n",
    "import os"
   ]
  },
  {
   "cell_type": "code",
   "execution_count": 25,
   "metadata": {},
   "outputs": [],
   "source": [
    "class GenerateData: \n",
    "    \n",
    "    def __init__(self, count):\n",
    "        self.count = count\n",
    "    \n",
    "    def date(self):\n",
    "        dt = datetime.now(tz=None)\n",
    "        return \"{}-{}-{} {}:{}:{}\".format(dt.year, dt.month, dt.day, dt.hour, dt.minute, dt.second)\n",
    "\n",
    "    def device(self):\n",
    "        return randint(1, 3)\n",
    "\n",
    "    def temperature(self):\n",
    "        return round( uniform(35.99, 39.01), 2 )\n",
    "    \n",
    "    def data(self, endLine=','):\n",
    "        return \"\\t({}, {}, '{}'){}\\n\".format(\n",
    "                    self.device(), \n",
    "                    self.temperature(), \n",
    "                    self.date(), \n",
    "                    endLine\n",
    "                )\n",
    "    \n",
    "    \n",
    "    def generate(self):\n",
    "        \n",
    "        file = open(\"dms.sql\", \"w\")\n",
    "        \n",
    "        file.write(\"USE Example;\\n\")\n",
    "        file.write(\"TRUNCATE TABLE Measure;\\n\")\n",
    "        file.write(\"INSERT INTO Measure(device, temperature, date) VALUES \\n\")\n",
    "        \n",
    "        for i in range( self.count - 1):\n",
    "            file.write( self.data() ) \n",
    "            \n",
    "        file.write( self.data(endLine=';') )\n",
    "        \n",
    "        file.close()"
   ]
  },
  {
   "cell_type": "code",
   "execution_count": 28,
   "metadata": {},
   "outputs": [],
   "source": [
    "count = 1*60*24*7*4*12\n",
    "(GenerateData(count)).generate()"
   ]
  }
 ],
 "metadata": {
  "kernelspec": {
   "display_name": "Python 3",
   "language": "python",
   "name": "python3"
  },
  "language_info": {
   "codemirror_mode": {
    "name": "ipython",
    "version": 3
   },
   "file_extension": ".py",
   "mimetype": "text/x-python",
   "name": "python",
   "nbconvert_exporter": "python",
   "pygments_lexer": "ipython3",
   "version": "3.8.5"
  }
 },
 "nbformat": 4,
 "nbformat_minor": 4
}
